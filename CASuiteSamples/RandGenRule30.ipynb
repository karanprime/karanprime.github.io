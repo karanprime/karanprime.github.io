{
 "cells": [
  {
   "cell_type": "markdown",
   "metadata": {},
   "source": [
    "# Random Number Generator using Rule30 Cellular Automata\n",
    "### By Karan Shah"
   ]
  },
  {
   "cell_type": "code",
   "execution_count": 8,
   "metadata": {
    "collapsed": true
   },
   "outputs": [],
   "source": [
    "import time\n",
    "import numpy as np\n",
    "import matplotlib.pyplot as plt\n",
    "%matplotlib inline\n"
   ]
  },
  {
   "cell_type": "code",
   "execution_count": 9,
   "metadata": {
    "collapsed": true
   },
   "outputs": [],
   "source": [
    "def show_grid (grid):\n",
    "    plt.matshow (grid)"
   ]
  },
  {
   "cell_type": "markdown",
   "metadata": {},
   "source": [
    "The following functions simulate rule 30. Good for generating single random numbers and seeing cellular automata plots. For the actual generator that can be used multiple times, look at the class below these functions."
   ]
  },
  {
   "cell_type": "code",
   "execution_count": 10,
   "metadata": {
    "collapsed": true
   },
   "outputs": [],
   "source": [
    "def genSeed():\n",
    "    t = time.time()\n",
    "    #print(t)\n",
    "    t=int((t-int(t))*10**6)\n",
    "    #print(t)\n",
    "    s = str(bin(t))\n",
    "    s = s[2:]\n",
    "    #print(s)\n",
    "    c = np.zeros(33)\n",
    "    n = 16 - int(len(s)/2)\n",
    "    for i in range(len(s)):\n",
    "        c[n+i] = int(s[i])\n",
    "    #print(\"Seed is:\")\n",
    "    return c\n",
    "\n",
    "for i in range(20):\n",
    "    genSeed()"
   ]
  },
  {
   "cell_type": "code",
   "execution_count": 11,
   "metadata": {
    "collapsed": false
   },
   "outputs": [
    {
     "data": {
      "text/plain": [
       "16196"
      ]
     },
     "execution_count": 11,
     "metadata": {},
     "output_type": "execute_result"
    },
    {
     "data": {
      "image/png": "[encoded data removed]",
      "text/plain": [
       "<matplotlib.figure.Figure at 0x10ae391d0>"
      ]
     },
     "metadata": {},
     "output_type": "display_data"
    }
   ],
   "source": [
    "def rand30(seed = 0):\n",
    "    if(seed == 0):\n",
    "        seed = genSeed()\n",
    "    \n",
    "    rule30 = [0,1,1,1,1,0,0,0]\n",
    "    ca = seed\n",
    "    #print(type(seed[0]))\n",
    "    ca_next = np.zeros(33)\n",
    "    ca_whole = np.zeros((16,33))\n",
    "    ca_whole[0,:]=ca \n",
    "    randnum = np.zeros(16)\n",
    "    randnum[0] = ca[16]\n",
    "    #print(ca)\n",
    "    for i in range(1,16):\n",
    "        ca_next = np.zeros(33)\n",
    "        \n",
    "        n = int(ca[32]*4+ca[0]*2+ca[1]*1)\n",
    "        ca_next[0] = rule30[n]\n",
    "        for j in range(1,32):\n",
    "            #print(\"###\")\n",
    "            #print(j)\n",
    "            n = ca[j-1]*4+ca[j]*2+ca[j+1]*1\n",
    "            n = int(n)\n",
    "            #print(n)\n",
    "            ca_next[j] = rule30[n]\n",
    "        n = int(ca[31]*4+ca[32]*2+ca[0]*1)\n",
    "        ca_next[32] = rule30[n]\n",
    "        randnum[i]= ca_next[16]\n",
    "        ca_whole[i,:] = ca_next\n",
    "        ca = ca_next\n",
    "    \n",
    "    #print(ca_next)\n",
    "    \n",
    "    ca_whole[1,:]=ca_next\n",
    "    show_grid(ca_whole)\n",
    "    #print(randnum)\n",
    "    rstr = ''.join(str(e) for e in randnum.astype(int))\n",
    "    return(int(rstr,2))\n",
    "    \n",
    "        \n",
    "        \n",
    "\n",
    "rand30()\n",
    "    "
   ]
  },
  {
   "cell_type": "markdown",
   "metadata": {},
   "source": [
    "## Use this class in your program\n",
    "\n",
    "Use this in your program. Make an object of type randGen30(seed) and use the nextRand() function to generate new random numbers. Right now you have to normalize numbers yourself. \n",
    "Note: If you make an object without an argument, it will use current time as a seed."
   ]
  },
  {
   "cell_type": "code",
   "execution_count": 12,
   "metadata": {
    "collapsed": true
   },
   "outputs": [],
   "source": [
    "class randGen30:\n",
    "    rule30 = [0,1,1,1,1,0,0,0]\n",
    "    \n",
    "    def __init__(self,seed=0):\n",
    "        self.seed = seed\n",
    "        self.i = 0\n",
    "        if(self.seed == 0):\n",
    "            t = time.time()\n",
    "            t = int((t-int(t))*10**6)\n",
    "            s = str(bin(t))\n",
    "\n",
    "        else:\n",
    "            s = str(bin(int(self.seed)))\n",
    "            if(len(s) > 33):\n",
    "                s = s[0:33]\n",
    "        \n",
    "        s = s[2:]\n",
    "        self.state = np.zeros(33)\n",
    "        n = 16 - int(len(s)/2)\n",
    "        for i in range(len(s)):\n",
    "            self.state[n+i] = int(s[i])\n",
    "        \n",
    "    def nextRand(self):\n",
    "        \n",
    "        ca = self.state\n",
    "        ca_next = np.zeros(33)\n",
    "        \n",
    "        randnum = np.zeros(16)\n",
    "        randnum[0] = ca[16]\n",
    "\n",
    "        for i in range(1,16):\n",
    "            ca_next = np.zeros(33)\n",
    "            n = int(ca[32]*4+ca[0]*2+ca[1]*1)\n",
    "            ca_next[0] = randGen30.rule30[n]\n",
    "            for j in range(1,32):\n",
    "                n = ca[j-1]*4+ca[j]*2+ca[j+1]*1\n",
    "                n = int(n)\n",
    "                ca_next[j] = randGen30.rule30[n]\n",
    "            n = int(ca[31]*4+ca[32]*2+ca[0]*1)\n",
    "            ca_next[32] = randGen30.rule30[n]\n",
    "            randnum[i]= ca_next[16]\n",
    "            ca = ca_next\n",
    "            \n",
    "        self.state = ca\n",
    "        rstr = ''.join(str(e) for e in randnum.astype(int))\n",
    "        return(int(rstr,2))"
   ]
  },
  {
   "cell_type": "code",
   "execution_count": 13,
   "metadata": {
    "collapsed": false
   },
   "outputs": [
    {
     "name": "stdout",
     "output_type": "stream",
     "text": [
      "Random numbers from obj r\n",
      "40619\n",
      "57030\n",
      "17811\n",
      "58408\n",
      "Random numbers from obj p\n",
      "40459\n",
      "56927\n",
      "43085\n",
      "47619\n"
     ]
    }
   ],
   "source": [
    "#Default seed test\n",
    "\n",
    "r = randGen30()\n",
    "p = randGen30()\n",
    "print(\"Random numbers from obj r\")\n",
    "print(r.nextRand())\n",
    "print(r.nextRand())\n",
    "print(r.nextRand())\n",
    "print(r.nextRand())\n",
    "\n",
    "print(\"Random numbers from obj p\")\n",
    "print(p.nextRand())\n",
    "print(p.nextRand())\n",
    "print(p.nextRand())\n",
    "print(p.nextRand())\n"
   ]
  },
  {
   "cell_type": "code",
   "execution_count": 14,
   "metadata": {
    "collapsed": false
   },
   "outputs": [
    {
     "name": "stdout",
     "output_type": "stream",
     "text": [
      "Random numbers from obj r\n",
      "62715\n",
      "38734\n",
      "6270\n",
      "6515\n",
      "Random numbers from obj p\n",
      "62715\n",
      "38734\n",
      "6270\n",
      "6515\n"
     ]
    }
   ],
   "source": [
    "#User provided seed test\n",
    "\n",
    "r = randGen30(314159)\n",
    "p = randGen30(314159)\n",
    "print(\"Random numbers from obj r\")\n",
    "print(r.nextRand())\n",
    "print(r.nextRand())\n",
    "print(r.nextRand())\n",
    "print(r.nextRand())\n",
    "\n",
    "print(\"Random numbers from obj p\")\n",
    "print(p.nextRand())\n",
    "print(p.nextRand())\n",
    "print(p.nextRand())\n",
    "print(p.nextRand())\n"
   ]
  }
 ],
 "metadata": {
  "kernelspec": {
   "display_name": "IPython (Python 3)",
   "language": "python",
   "name": "python3"
  },
  "language_info": {
   "codemirror_mode": {
    "name": "ipython",
    "version": 3
   },
   "file_extension": ".py",
   "mimetype": "text/x-python",
   "name": "python",
   "nbconvert_exporter": "python",
   "pygments_lexer": "ipython3",
   "version": "3.5.1"
  }
 },
 "nbformat": 4,
 "nbformat_minor": 0
}
