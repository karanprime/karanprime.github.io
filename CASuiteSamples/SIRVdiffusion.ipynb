{
 "cells": [
  {
   "cell_type": "markdown",
   "metadata": {},
   "source": [
    "# SIRV with spatial diffusion\n",
    "by Karan Shah\n"
   ]
  },
  {
   "cell_type": "code",
   "execution_count": 1,
   "metadata": {
    "collapsed": true
   },
   "outputs": [],
   "source": [
    "#import necessary libraries\n",
    "import numpy as np\n",
    "import scipy as sp\n",
    "import scipy.sparse\n",
    "from scipy.integrate import odeint\n",
    "from scipy.linalg import block_diag"
   ]
  },
  {
   "cell_type": "code",
   "execution_count": 2,
   "metadata": {
    "collapsed": true
   },
   "outputs": [],
   "source": [
    "# Core plotting support\n",
    "import matplotlib.pyplot as plt\n",
    "from mpl_toolkits.mplot3d import Axes3D\n",
    "%matplotlib inline"
   ]
  },
  {
   "cell_type": "markdown",
   "metadata": {},
   "source": [
    "** Initialized with some values: **"
   ]
  },
  {
   "cell_type": "code",
   "execution_count": 3,
   "metadata": {
    "collapsed": false
   },
   "outputs": [],
   "source": [
    "#Define Global Variables\n",
    "TAU = 0.8\n",
    "K = 4\n",
    "DELTA = 0.2\n",
    "V = 0.7\n",
    "GRID_SIZE = 11"
   ]
  },
  {
   "cell_type": "markdown",
   "metadata": {},
   "source": [
    "** build_matrix_D makes the D matrix: **"
   ]
  },
  {
   "cell_type": "code",
   "execution_count": 4,
   "metadata": {
    "collapsed": false
   },
   "outputs": [
    {
     "name": "stdout",
     "output_type": "stream",
     "text": [
      "[[-4.  2.  0.  0.]\n",
      " [ 1. -4.  1.  0.]\n",
      " [ 0.  1. -4.  1.]\n",
      " [ 0.  0.  2. -4.]]\n"
     ]
    }
   ],
   "source": [
    "def build_matrix_D(m):\n",
    "    D = sp.sparse.csr_matrix (sp.sparse.diags ([1, -4, 1], [-1, 0, 1], shape=(m, m)))\n",
    "    D[0, 0] = -4\n",
    "    D[0, 1] = 2\n",
    "    D[m-1, m-1] = -4\n",
    "    D[m-1, m-2] = 2\n",
    "    return D.toarray()\n",
    "\n",
    "print(build_matrix_D(4))"
   ]
  },
  {
   "cell_type": "markdown",
   "metadata": {},
   "source": [
    "** build_matrix_A makes the matrix A using the matrix D: **"
   ]
  },
  {
   "cell_type": "code",
   "execution_count": 5,
   "metadata": {
    "collapsed": false
   },
   "outputs": [
    {
     "name": "stdout",
     "output_type": "stream",
     "text": [
      "[[-4.  2.  0.  0.  2.  0.  0.  0.  0.  0.  0.  0.  0.  0.  0.  0.]\n",
      " [ 1. -4.  1.  0.  0.  2.  0.  0.  0.  0.  0.  0.  0.  0.  0.  0.]\n",
      " [ 0.  1. -4.  1.  0.  0.  2.  0.  0.  0.  0.  0.  0.  0.  0.  0.]\n",
      " [ 0.  0.  2. -4.  0.  0.  0.  2.  0.  0.  0.  0.  0.  0.  0.  0.]\n",
      " [ 1.  0.  0.  0. -4.  2.  0.  0.  1.  0.  0.  0.  0.  0.  0.  0.]\n",
      " [ 0.  1.  0.  0.  1. -4.  1.  0.  0.  1.  0.  0.  0.  0.  0.  0.]\n",
      " [ 0.  0.  1.  0.  0.  1. -4.  1.  0.  0.  1.  0.  0.  0.  0.  0.]\n",
      " [ 0.  0.  0.  1.  0.  0.  2. -4.  0.  0.  0.  1.  0.  0.  0.  0.]\n",
      " [ 0.  0.  0.  0.  1.  0.  0.  0. -4.  2.  0.  0.  1.  0.  0.  0.]\n",
      " [ 0.  0.  0.  0.  0.  1.  0.  0.  1. -4.  1.  0.  0.  1.  0.  0.]\n",
      " [ 0.  0.  0.  0.  0.  0.  1.  0.  0.  1. -4.  1.  0.  0.  1.  0.]\n",
      " [ 0.  0.  0.  0.  0.  0.  0.  1.  0.  0.  2. -4.  0.  0.  0.  1.]\n",
      " [ 0.  0.  0.  0.  0.  0.  0.  0.  2.  0.  0.  0. -4.  2.  0.  0.]\n",
      " [ 0.  0.  0.  0.  0.  0.  0.  0.  0.  2.  0.  0.  1. -4.  1.  0.]\n",
      " [ 0.  0.  0.  0.  0.  0.  0.  0.  0.  0.  2.  0.  0.  1. -4.  1.]\n",
      " [ 0.  0.  0.  0.  0.  0.  0.  0.  0.  0.  0.  2.  0.  0.  2. -4.]]\n"
     ]
    }
   ],
   "source": [
    "def build_matrix_A (m):\n",
    "    D = build_matrix_D(m)\n",
    "\n",
    "    \n",
    "    A = np.zeros((m**2,m**2))\n",
    "\n",
    "    for i in range(m):\n",
    "        A[i*m:(i+1)*m,i*m:(i+1)*m] = D\n",
    "        \n",
    "#    A[2*m:,m:(m)**2-m]+=np.identity((m)**2-2*m)  #I to the left\n",
    "    A[m:,0:(m)**2-m]+=np.identity((m)**2-m)  #I to the left\n",
    "    A[0:m**2-m,m:]+=np.identity((m)**2-m)  #I to the right\n",
    "    #A[m:2*m,0:m]+=np.identity(m) * 2\n",
    "    A[0:m,m:2*m]+=np.identity(m)\n",
    "    A[m**2-m:m**2,m**2-2*m:m**2-m]+=np.identity(m) \n",
    "    \n",
    "    return A\n",
    "\n",
    "print(build_matrix_A(4))"
   ]
  },
  {
   "cell_type": "markdown",
   "metadata": {},
   "source": [
    "** f_diffusion uses build_matrix_A and computes the diffusion term ** "
   ]
  },
  {
   "cell_type": "code",
   "execution_count": 6,
   "metadata": {
    "collapsed": false
   },
   "outputs": [],
   "source": [
    "def f_diffusion (I, A, c):\n",
    "    #print (A.dot(I))\n",
    "    f = c * A.dot(I)\n",
    "    return f\n",
    "\n"
   ]
  },
  {
   "cell_type": "markdown",
   "metadata": {},
   "source": [
    "** ode calculates the derivative at that time step **"
   ]
  },
  {
   "cell_type": "code",
   "execution_count": 7,
   "metadata": {
    "collapsed": false
   },
   "outputs": [],
   "source": [
    "def ode(y, t, c, tau = TAU, k = K, v = V, m = GRID_SIZE):\n",
    "    i = y[0:m**2]\n",
    "    s = y[m**2:2*m**2]\n",
    "    r = y[2*m**2:3*m**2]\n",
    "    \n",
    "    f = np.zeros (y.shape)\n",
    "    A = build_matrix_A(m)\n",
    "    diff = f_diffusion(i, A, c)\n",
    "    \n",
    "    i_t = tau*i*s - i/k + diff*s\n",
    "    s_t = -tau*i*s - diff*s - v*s*i/(i+s)\n",
    "    r_t = i/k\n",
    "    \n",
    "    f[0:m**2] = i_t\n",
    "    f[m**2:2*m**2] = s_t\n",
    "    f[2*m**2:3*m**2] = r_t\n",
    "    return f"
   ]
  },
  {
   "cell_type": "code",
   "execution_count": 8,
   "metadata": {
    "collapsed": false
   },
   "outputs": [
    {
     "name": "stdout",
     "output_type": "stream",
     "text": [
      "Final values after time 100.000000:\n",
      "I: 0.000000 \n",
      "S: 0.000000 \n",
      "R: 0.393384\n",
      "V: 0.606616 \n"
     ]
    },
    {
     "data": {
      "image/png": "[encoded data removed]",
      "text/plain": [
       "<matplotlib.figure.Figure at 0x1063c7978>"
      ]
     },
     "metadata": {},
     "output_type": "display_data"
    },
    {
     "name": "stdout",
     "output_type": "stream",
     "text": [
      "\n",
      "Using problem threshold of I<10^(-5) or S<10^(-5)\n",
      "Sim stopped because S value below threshold.\n",
      "Final values after time 25.000000:\n",
      "I: 0.004442 \n",
      "S: 0.000013 \n",
      "R: 0.388943 \n",
      "V: 0.606603 \n",
      "Stopping point:25.000000\n"
     ]
    },
    {
     "data": {
      "image/png": "[encoded data removed]",
      "text/plain": [
       "<matplotlib.figure.Figure at 0x10bf80978>"
      ]
     },
     "metadata": {},
     "output_type": "display_data"
    }
   ],
   "source": [
    "def sim(grid_size = GRID_SIZE, tau = TAU, k = K, v = V, delta = DELTA, n_t = 100.0, t_max = 100):\n",
    "    h = float (1)/(grid_size-1)\n",
    "    \n",
    "    i0 = np.zeros(grid_size * grid_size) \n",
    "    s0 = np.ones(grid_size * grid_size)\n",
    "    r0 = np.zeros(grid_size * grid_size)\n",
    "    s0[5 * grid_size + 5] = 0.5\n",
    "    i0[5 * grid_size + 5] = 0.5\n",
    "    \n",
    "    y_0 = np.array([i0, s0, r0])\n",
    "    y_0 = np.reshape(y_0,3*grid_size**2)\n",
    "    t_all = np.linspace(0, t_max, n_t)\n",
    "    \n",
    "    c = delta/(h**2)\n",
    "    y_t = odeint(ode, y_0, t_all, args = (c, tau, k, v, grid_size))\n",
    "\n",
    "    i = y_t[:,0:grid_size**2]\n",
    "    s = y_t[:,grid_size**2:2*grid_size**2]\n",
    "    r = y_t[:,2*grid_size**2:3*grid_size**2]\n",
    "    \n",
    "    #print((np.sum(i,axis=1)).shape)\n",
    "    i_sum = abs(np.sum(i,axis=1)/grid_size**2)\n",
    "    s_sum = abs(np.sum(s,axis=1)/grid_size**2)\n",
    "    r_sum = abs(np.sum(r,axis=1)/grid_size**2)\n",
    "    v_sum = abs(1 - (i_sum+s_sum+r_sum))\n",
    "    \n",
    "    print(\"Final values after time %f:\\nI: %f \\nS: %f \\nR: %f\\nV: %f \"% (t_max, i_sum[-1] ,s_sum[-1] ,r_sum[-1],v_sum[-1]))\n",
    "    plt.plot (t_all, i_sum, 'r', t_all, s_sum, 'y', t_all, r_sum, 'b',t_all, v_sum, 'g')\n",
    "    plt.show()\n",
    "\n",
    "############Code for condition according to 21.5a  \n",
    "    t_i=np.where(i_sum > 10**(-5))[-1]\n",
    "    t_s=np.where(s_sum > 10**(-5))[-1]    \n",
    "    t_cond = min(t_i[-1],t_s[-1])\n",
    "\n",
    "    print(\"\\nUsing problem threshold of I<10^(-5) or S<10^(-5)\")\n",
    "    if(t_i[-1]>t_s[-1]):print(\"Sim stopped because S value below threshold.\")\n",
    "    else: print(\"Sim stopped because I value below threshold.\")\n",
    "    print(\"Final values after time %f:\\nI: %f \\nS: %f \\nR: %f \\nV: %f \"% (t_cond,i_sum[t_cond] ,s_sum[t_cond] ,r_sum[t_cond], v_sum[t_cond]))\n",
    "    print(\"Stopping point:%f\" %(t_cond*t_max/n_t))\n",
    "    plt.plot (t_all[:t_cond], i_sum[:t_cond], 'r', t_all[:t_cond], s_sum[:t_cond], 'y', t_all[:t_cond], r_sum[:t_cond], 'b',v_sum[:t_cond], 'g')\n",
    "    plt.show()\n",
    "\n",
    "\n",
    "sim()"
   ]
  },
  {
   "cell_type": "markdown",
   "metadata": {},
   "source": [
    "## Interactive simulation\n",
    "Note: It can get pretty slow."
   ]
  },
  {
   "cell_type": "code",
   "execution_count": 9,
   "metadata": {
    "collapsed": false
   },
   "outputs": [
    {
     "name": "stdout",
     "output_type": "stream",
     "text": [
      "Final values after time 100.000000:\n",
      "I: 0.000000 \n",
      "S: 0.000000 \n",
      "R: 0.393384\n",
      "V: 0.606616 \n"
     ]
    },
    {
     "data": {
      "image/png": "[encoded data removed]",
      "text/plain": [
       "<matplotlib.figure.Figure at 0x108423630>"
      ]
     },
     "metadata": {},
     "output_type": "display_data"
    },
    {
     "name": "stdout",
     "output_type": "stream",
     "text": [
      "\n",
      "Using problem threshold of I<10^(-5) or S<10^(-5)\n",
      "Sim stopped because S value below threshold.\n",
      "Final values after time 25.000000:\n",
      "I: 0.004442 \n",
      "S: 0.000013 \n",
      "R: 0.388943 \n",
      "V: 0.606603 \n",
      "Stopping point:25.000000\n"
     ]
    },
    {
     "data": {
      "image/png": "[encoded data removed]",
      "text/plain": [
       "<matplotlib.figure.Figure at 0x10c29eef0>"
      ]
     },
     "metadata": {},
     "output_type": "display_data"
    },
    {
     "data": {
      "text/plain": [
       "<function __main__.sim>"
      ]
     },
     "execution_count": 9,
     "metadata": {},
     "output_type": "execute_result"
    }
   ],
   "source": [
    "from ipywidgets import interact\n",
    "\n",
    "interact (sim\n",
    "          , grid_size = (0,50,5)\n",
    "          , tau=(0.0, 2.0, 0.01)\n",
    "          , rho=(0.0, 2.0, 0.01)\n",
    "          , delta=(0.0,2.0,0.01)\n",
    "          , t_max=(0.0, 100.0, 10.0)\n",
    "          , n_t=(1, 500, 50)\n",
    "         )"
   ]
  }
 ],
 "metadata": {
  "kernelspec": {
   "display_name": "IPython (Python 3)",
   "language": "python",
   "name": "python3"
  },
  "language_info": {
   "codemirror_mode": {
    "name": "ipython",
    "version": 3
   },
   "file_extension": ".py",
   "mimetype": "text/x-python",
   "name": "python",
   "nbconvert_exporter": "python",
   "pygments_lexer": "ipython3",
   "version": "3.5.1"
  }
 },
 "nbformat": 4,
 "nbformat_minor": 0
}
