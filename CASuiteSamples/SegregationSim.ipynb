{
 "cells": [
  {
   "cell_type": "markdown",
   "metadata": {},
   "source": [
    "# Segregation Simulation using cellular automata\n",
    "### By Karan Shah\n",
    "\n",
    "Includes:\n",
    "* The Segregation of Dissimilarity as a measure of segregation\n",
    "* Baseline model that runs till steady state or max iterations\n",
    "* Interactive plot of the grid, and a realtime graph for Iterations vs. Index\n",
    "* Plots for:\n",
    " * Grid size vs Index\n",
    " * Probability of Occupation ($\\rho$) vs Index\n",
    " * Probability bias towards tribe A ($\\alpha$) vs Index\n"
   ]
  },
  {
   "cell_type": "code",
   "execution_count": 1,
   "metadata": {
    "collapsed": true
   },
   "outputs": [],
   "source": [
    "import numpy as np\n",
    "import random\n",
    "import math\n",
    "import matplotlib.pyplot as plt\n",
    "from scipy.spatial import distance\n",
    "from ipywidgets import interact\n",
    "%matplotlib inline\n",
    "\n",
    "\n",
    "#random.seed(1601134230)\n",
    "np.random.seed(1601134230)\n",
    "M, N = 10, 10\n",
    "EMPTY = 0\n",
    "TRIBE_A = 1\n",
    "TRIBE_B = -1\n",
    "PROB_OCCUPIED = 0.5\n",
    "COND_PROB_A = 2.0 / 3\n",
    "UNHAPPY_COLOR_THRESHOLD = 0\n",
    "MAX_ITER = 100\n",
    "DISTRIBUTION_TYPE = 0"
   ]
  },
  {
   "cell_type": "code",
   "execution_count": 2,
   "metadata": {
    "collapsed": false
   },
   "outputs": [],
   "source": [
    "def show_grid (grid):\n",
    "    plt.matshow (grid)"
   ]
  },
  {
   "cell_type": "code",
   "execution_count": 3,
   "metadata": {
    "collapsed": true
   },
   "outputs": [],
   "source": [
    "def create_pop_grid (m, n, pr_occupied, pr_one):\n",
    "    \"\"\"\n",
    "    Returns an (m+2) x (n+2) grid of integer cells, representing\n",
    "    the population map of an abstract \"world.\"\n",
    "    \n",
    "    Each cell contains one of three possible values: {-1, 0, +1}.\n",
    "    The boundaries are set to 0, i.e., the world is \"padded.\"\n",
    "    \n",
    "    In the interior, the probability that a cell is non-zero is\n",
    "    pr_occupied. Cells are independent. The conditional\n",
    "    probability that an occupied cell is +1 given that it is\n",
    "    occupied is pr_one.\n",
    "    \"\"\"\n",
    "    \n",
    "    dims = (m+2, n+2)\n",
    "    if(pr_occupied == 0):\n",
    "        grid = np.zeros(dims)\n",
    "    else:\n",
    "        pr_a = pr_occupied * pr_one\n",
    "        pr_b = pr_occupied * (1.0 - pr_one)\n",
    "        pr_empty = (1.0 - pr_occupied)\n",
    "    \n",
    "        possible_values = np.array ([EMPTY, TRIBE_A, TRIBE_B])\n",
    "        pr_dist = np.array ([pr_empty, pr_a, pr_b])\n",
    "    \n",
    "        grid = np.random.choice (possible_values, size=dims, p=pr_dist)\n",
    "    \n",
    "    # Fix the boundary\n",
    "        grid[  0,   :] = 0\n",
    "        grid[m+1,   :] = 0\n",
    "        grid[  :,   0] = 0\n",
    "        grid[  :, n+1] = 0\n",
    "    \n",
    "    return grid"
   ]
  },
  {
   "cell_type": "markdown",
   "metadata": {},
   "source": [
    "This helper function calculates distance between two points."
   ]
  },
  {
   "cell_type": "code",
   "execution_count": 4,
   "metadata": {
    "collapsed": true
   },
   "outputs": [],
   "source": [
    "def distance(x1,x2,y1,y2):\n",
    "    return math.sqrt((x1 - x2)**2 + (y1 - y2)**2)"
   ]
  },
  {
   "cell_type": "markdown",
   "metadata": {},
   "source": [
    "This function initializes the grid population. In this implementation, the cell at the center of the grid is the seed. The probability of occupation decreases  linearly with the distance from the seed. This can be easily changed to inversely instead of linearly with a small modification."
   ]
  },
  {
   "cell_type": "code",
   "execution_count": 5,
   "metadata": {
    "collapsed": false
   },
   "outputs": [],
   "source": [
    "def create_pop_grid_around_a_seed (m, n, pr_occupied, pr_one):\n",
    "    seedm = m/2\n",
    "    seedn = n/2\n",
    "    dims = (m+2, n+2)\n",
    "    x = random.random()\n",
    "    rho = pr_occupied\n",
    "    mu = max(distance(seedm, 0, seedn, 0),distance(seedm, m, seedn, 0),distance(seedm, 0, seedn, n),distance(seedm, m, seedn, n))\n",
    "       # print(mu)\n",
    "    grid = np.zeros(dims)\n",
    "    \n",
    "    if(pr_occupied != 0):\n",
    "        for i in range(1,m+1):\n",
    "            for j in range(1, n+1):\n",
    "                if i != seedm or j != seedn:\n",
    "                    x = random.random()\n",
    "                    pr_occupied = rho*(mu - distance(seedm,i,seedn,j))/mu\n",
    "                    #print(rho)\n",
    "                    #print(pr_occupied)\n",
    "                    if(x < pr_occupied):\n",
    "                        #print (x < pr_occupied)\n",
    "                        x = random.random()\n",
    "                        if(x <= pr_one):\n",
    "                            grid[i,j] = 1\n",
    "                        if(x > pr_one):\n",
    "                            grid[i,j] = -1\n",
    "                        #pr_B = pr_occupied * (1 - pr_one)\n",
    "    \n",
    "    # Fix the boundary\n",
    "        grid[  0,   :] = 0\n",
    "        grid[m+1,   :] = 0\n",
    "        grid[  :,   0] = 0\n",
    "        grid[  :, n+1] = 0\n",
    "    \n",
    "    return grid\n"
   ]
  },
  {
   "cell_type": "code",
   "execution_count": 6,
   "metadata": {
    "collapsed": true
   },
   "outputs": [],
   "source": [
    "def normalize_neighborhoods (grid):\n",
    "    # Given a grid of cells, normalize the value of each\n",
    "    # grid cell by the count of its nearest neighbors.\n",
    "    norm_grid = np.zeros (grid.shape)\n",
    "    \n",
    "    # Interior\n",
    "    norm_grid[1:-1, 1:-1] = grid[1:-1, 1:-1] / 9\n",
    "    \n",
    "    # Edges\n",
    "    norm_grid[1:-1, 0] = grid[1:-1, 0] / 6\n",
    "    norm_grid[1:-1, -1] = grid[1:-1, -1] / 6\n",
    "    norm_grid[0, 1:-1] = grid[0, 1:-1] / 6\n",
    "    norm_grid[-1, 1:-1] = grid[-1, 1:-1] / 6\n",
    "    \n",
    "    # Corners\n",
    "    norm_grid[0, 0] = grid[0, 0] / 4\n",
    "    norm_grid[0, -1] = grid[0, -1] / 4\n",
    "    norm_grid[-1, 1] = grid[-1, 0] / 4\n",
    "    norm_grid[-1, -1] = grid[-1, -1] / 4\n",
    "    \n",
    "    return norm_grid"
   ]
  },
  {
   "cell_type": "code",
   "execution_count": 7,
   "metadata": {
    "collapsed": true
   },
   "outputs": [],
   "source": [
    "def measure_color (G, normalize=False):\n",
    "    C = np.zeros (G.shape, dtype=G.dtype)\n",
    "    \n",
    "    r = len(G)\n",
    "    c = len(G[0])\n",
    "    \n",
    "    for x in range(1, r-1):\n",
    "        for y in range(1, c-1):\n",
    "            C[x, y] = np.sum(G[(x-1):(x+2), (y-1):(y+2)])\n",
    "    if normalize:\n",
    "        C = C.astype (float)\n",
    "        C[1:-1, 1:-1] = normalize_neighborhoods (C[1:-1, 1:-1])\n",
    "        \n",
    "    return C"
   ]
  },
  {
   "cell_type": "code",
   "execution_count": 8,
   "metadata": {
    "collapsed": true
   },
   "outputs": [],
   "source": [
    "def get_unhappy_grid (G, C, threshold=UNHAPPY_COLOR_THRESHOLD):\n",
    "    # @YOUSE: Compute G_unhappy\n",
    "    Happy = np.multiply(G, C)\n",
    "    G_unhappy = np.multiply(G, Happy < threshold) # Replace this statement with solution code\n",
    "    \n",
    "    return G_unhappy"
   ]
  },
  {
   "cell_type": "code",
   "execution_count": 9,
   "metadata": {
    "collapsed": true
   },
   "outputs": [],
   "source": [
    "def get_locations (condition_grid):\n",
    "    \"\"\"\n",
    "    Given a grid of True/False values, returns a\n",
    "    list of tuples [..., (i, j), ...], where each\n",
    "    tuple is the location of a True value.\n",
    "    \"\"\"\n",
    "    locs = np.nonzero (condition_grid)\n",
    "    return list (zip (locs[0], locs[1]))"
   ]
  },
  {
   "cell_type": "code",
   "execution_count": 10,
   "metadata": {
    "collapsed": false
   },
   "outputs": [],
   "source": [
    "def is_free_grid (pop_grid):\n",
    "    free_spaces = np.zeros (pop_grid.shape, dtype=bool)\n",
    "    free_spaces[1:-1, 1:-1] = (pop_grid[1:-1, 1:-1] == 0)\n",
    "    return free_spaces"
   ]
  },
  {
   "cell_type": "code",
   "execution_count": 11,
   "metadata": {
    "collapsed": true
   },
   "outputs": [],
   "source": [
    "def swap_grid_random (G, locs_x, locs_y):\n",
    "    \"\"\"\n",
    "    Given a grid and two possible collections of locations, X and Y,\n",
    "    this routine randomly swaps as many locations from X with those\n",
    "    from Y. This routine performs the swaps *in-place*, that is, it\n",
    "    modifies grid directly.\n",
    "    \"\"\"\n",
    "    \n",
    "    # Max swaps possible\n",
    "    n = min (len (locs_x), len (locs_y))\n",
    "    \n",
    "    # Choose random entries to swap\n",
    "    locs_x_to_swap = random.sample (locs_x, n)\n",
    "    locs_y_to_swap = random.sample (locs_y, n)\n",
    "    \n",
    "    # Execute swaps\n",
    "    for ((xi, xj), (yi, yj)) in zip (locs_x_to_swap, locs_y_to_swap):\n",
    "        G[xi, xj], G[yi, yj] = G[yi, yj], G[xi, xj]\n",
    "        \n",
    "    return G"
   ]
  },
  {
   "cell_type": "code",
   "execution_count": 12,
   "metadata": {
    "collapsed": false
   },
   "outputs": [],
   "source": [
    "def calcIndex(m, n,G):\n",
    "    peeps = np.copy(G)\n",
    "    noA= np.count_nonzero (peeps == 1)\n",
    "    noB= np.count_nonzero (peeps == -1)\n",
    "    if noA ==0 and noB == 0: return 0\n",
    "    elif noA == 0: return 1\n",
    "    elif noB == 0: return 1\n",
    "    else:     \n",
    "        totalCells = m*n\n",
    "        km = m - m%3 #9\n",
    "        kn = n - n%3 #9\n",
    "           # print(\"km,kn=\",km,kn)\n",
    "        noLeft = totalCells - (km * kn)\n",
    "           # print(\"Left=\",noLeft)\n",
    "        newG = peeps[1:km+1,1:kn+1]\n",
    "        left = np.copy(G)\n",
    "        left[1:km+1,1:kn+1] = 0\n",
    "    #show_grid(left)\n",
    "    #  print(np.shape(peeps))\n",
    "          #  print(np.shape(newG))\n",
    "    #show_grid(newG)\n",
    "    \n",
    "        noAi = np.count_nonzero (left == 1)\n",
    "        noBi = np.count_nonzero (left == -1)\n",
    "        tempI = abs(noAi/noA - noBi/noB)#*9/noLeft\n",
    "        #print (tempI)\n",
    "        index = tempI\n",
    "        for i in range(1,m,3):\n",
    "            for j in range(1,n,3):\n",
    "                noAi = np.count_nonzero (newG[i-1:i+1,j-1:j+1] == 1)\n",
    "                noBi = np.count_nonzero (newG[i-1:i+1,j-1:j+1] == -1)\n",
    "                index = index + abs(noAi/noA - noBi/noB) \n",
    "\n",
    "    #show_grid(newG)\n",
    "    #index = 0\n",
    "    \n",
    "        return index/2\n",
    "    return 0\n",
    "    "
   ]
  },
  {
   "cell_type": "code",
   "execution_count": 13,
   "metadata": {
    "collapsed": false
   },
   "outputs": [],
   "source": [
    "def baseline(G, threshold):\n",
    "    #Run iterations\n",
    "    peeps = G\n",
    "    raw_color_grid = measure_color (peeps)\n",
    "    norm_color_grid = measure_color (peeps, normalize = True)\n",
    "    \n",
    "    unhappy_campers = get_unhappy_grid (peeps, norm_color_grid)\n",
    "    \n",
    "    locs_unhappy_A = get_locations (unhappy_campers == 1)\n",
    "    locs_unhappy_B = get_locations (unhappy_campers == -1)\n",
    "    \n",
    "    avail_grid = is_free_grid (peeps)\n",
    "    \n",
    "    appeals_to_A = (norm_color_grid >= threshold)\n",
    "    locs_appeal_to_A = get_locations (avail_grid & appeals_to_A)\n",
    "    \n",
    "    appeals_to_B = (norm_color_grid <= -threshold)\n",
    "    locs_appeal_to_B = get_locations (avail_grid & appeals_to_B)\n",
    "    \n",
    "    new_peeps = np.copy (peeps)\n",
    "    swap_grid_random (new_peeps, locs_unhappy_A, locs_appeal_to_A)\n",
    "    swap_grid_random (new_peeps, locs_unhappy_B, locs_appeal_to_B)\n",
    "    \n",
    "    return new_peeps"
   ]
  },
  {
   "cell_type": "markdown",
   "metadata": {},
   "source": [
    "This is the non interactive main function for plotting and testing purposes."
   ]
  },
  {
   "cell_type": "code",
   "execution_count": 14,
   "metadata": {
    "collapsed": false
   },
   "outputs": [],
   "source": [
    "#Signature: main(m,n,prob_occupied, prob(A), threshold, distributionType)\n",
    "def main(m = M, n = N, max_steps=MAX_ITER, p_occupied=PROB_OCCUPIED, p_A=COND_PROB_A, threshold=UNHAPPY_COLOR_THRESHOLD, distribution = 0):\n",
    "    #np.random.seed (seed)\n",
    "    np.random.seed(1601134230)\n",
    "    if(distribution == 0):\n",
    "        peeps = create_pop_grid (m, n, p_occupied, p_A)\n",
    "    else:\n",
    "        peeps = create_pop_grid_around_a_seed (m, n, p_occupied, p_A)\n",
    "    og = peeps\n",
    "    #print(\"Initial grid:\")\n",
    "    #show_grid(peeps)\n",
    "    \n",
    "    nextpeeps = baseline(peeps, threshold)\n",
    "    steady = (peeps==nextpeeps).all()\n",
    "    i = 1\n",
    "    \n",
    "    while(not(steady) and (i < max_steps)):\n",
    "        peeps = nextpeeps\n",
    "        nextpeeps = baseline(peeps, threshold)\n",
    "        i=i+1\n",
    "        steady = (peeps==nextpeeps).all()\n",
    "    \n",
    "    # print(\"Final result:\")\n",
    "    # print(\"Iterations:\",i)\n",
    "    # show_grid(nextpeeps)\n",
    "    \n",
    "    ini = calcIndex(m,n,og)\n",
    "    fin = calcIndex(m,n,nextpeeps)\n",
    "    if(ini==0): per = 0\n",
    "    else: per = (fin - ini)*100/ini\n",
    "    # print(\"INdex for initial, final:\", ini,fin)\n",
    "    # print(\"Percentage change:\",per)\n",
    "    return fin #For plotting index, replace with i for iterations"
   ]
  },
  {
   "cell_type": "markdown",
   "metadata": {
    "collapsed": false
   },
   "source": [
    "This is the interactive main version that plots an Iterations vs. Index graph, prints segregation statistics,and  plots initial and final grids.   Default distribution type is baseline model uniformly random distribution."
   ]
  },
  {
   "cell_type": "code",
   "execution_count": 15,
   "metadata": {
    "collapsed": false
   },
   "outputs": [
    {
     "name": "stdout",
     "output_type": "stream",
     "text": [
      "Note: Distribution: 0 for baseline uniform, 1 for distribution around a seed\n",
      "\n",
      "Initial:\n",
      "Population of A: 35\n",
      "Population of B: 16\n",
      "\n",
      "Final result:\n",
      "Population of A: 35\n",
      "Population of B: 16\n",
      "\n",
      "Index for initial, final: 0.18125 0.2910714285714286\n",
      "Percentage change: 60.59113300492612 %\n"
     ]
    },
    {
     "data": {
      "text/plain": [
       "<function __main__.imain>"
      ]
     },
     "execution_count": 15,
     "metadata": {},
     "output_type": "execute_result"
    },
    {
     "data": {
      "image/png": "[encoded data removed]",
      "text/plain": [
       "<matplotlib.figure.Figure at 0x10bbb0b38>"
      ]
     },
     "metadata": {},
     "output_type": "display_data"
    },
    {
     "data": {
      "image/png": "[encoded data removed]",
      "text/plain": [
       "<matplotlib.figure.Figure at 0x10bc11828>"
      ]
     },
     "metadata": {},
     "output_type": "display_data"
    },
    {
     "data": {
      "image/png": "[encoded data removed]",
      "text/plain": [
       "<matplotlib.figure.Figure at 0x10bc2d630>"
      ]
     },
     "metadata": {},
     "output_type": "display_data"
    }
   ],
   "source": [
    "\n",
    "def imain (m = M, n = N, max_steps=MAX_ITER, p_occupied=PROB_OCCUPIED, p_A=COND_PROB_A, threshold=UNHAPPY_COLOR_THRESHOLD, distribution = DISTRIBUTION_TYPE):\n",
    "    #np.random.seed (seed)\n",
    "    np.random.seed(1601134230)\n",
    "    #print(\"test\")\n",
    "    if(distribution == 0):\n",
    "        peeps = create_pop_grid (m, n, p_occupied, p_A)\n",
    "    else:\n",
    "        peeps = create_pop_grid_around_a_seed (m, n, p_occupied, p_A)\n",
    "    #print (peeps)\n",
    "    og = peeps\n",
    "    \n",
    "    finValues = [calcIndex(m,n,og)]\n",
    "    noA= np.count_nonzero (peeps == 1)\n",
    "    noB= np.count_nonzero (peeps == -1)\n",
    "    \n",
    "    nextpeeps = baseline(peeps, threshold)\n",
    "    steady = (peeps==nextpeeps).all()\n",
    "    i = 1\n",
    "    \n",
    "    finValues.append(calcIndex(m,n,nextpeeps))\n",
    "    \n",
    "    while(not(steady) and (i < max_steps)):\n",
    "        peeps = nextpeeps\n",
    "        nextpeeps = baseline(peeps, threshold)\n",
    "        i=i+1\n",
    "        finValues.append(calcIndex(m,n,nextpeeps))\n",
    "        steady = (peeps==nextpeeps).all()\n",
    "    \n",
    "    print(\"Note: Distribution: 0 for baseline uniform, 1 for distribution around a seed\")\n",
    "    print(\"\\nInitial:\")\n",
    "    print(\"Population of A:\", noA)\n",
    "    print(\"Population of B:\", noB)\n",
    "    print(\"\\nFinal result:\")\n",
    "    noA= np.count_nonzero (nextpeeps == 1)\n",
    "    noB= np.count_nonzero (nextpeeps == -1)\n",
    "    print(\"Population of A:\", noA)\n",
    "    print(\"Population of B:\", noB)\n",
    "    ini = finValues[0]\n",
    "    fin = finValues[-1]    \n",
    "    if(ini==0): per = 0\n",
    "    else: per = (fin - ini)*100/ini\n",
    "    \n",
    "    it = range(0,i+1,1)\n",
    "    plt.xlabel('Iteration')\n",
    "    plt.ylabel('Index')\n",
    "    plt.plot(it,finValues)\n",
    "    plt.matshow(og)\n",
    "    plt.matshow(nextpeeps)\n",
    "    print(\"\\nIndex for initial, final:\", ini,fin)\n",
    "    print(\"Percentage change:\",per,\"%\")\n",
    "\n",
    "    \n",
    "   \n",
    "interact (imain\n",
    "          , m=(10, 50, 5)\n",
    "          , n=(10, 50, 5)\n",
    "          , max_steps=(1, 100, 5)\n",
    "          , p_occupied=(0.0, 1.0, 0.1)\n",
    "          , p_A=(0.0, 1.0, 0.1)\n",
    "          , threshold=(0.0, 1.0, 0.1)\n",
    "          , distribution=(0,1.0,1)\n",
    "         )"
   ]
  },
  {
   "cell_type": "markdown",
   "metadata": {
    "collapsed": false
   },
   "source": [
    "### Plots\n",
    "This section has the code for making plots. It won't start plotting by default (saves time and space). Change the variable to_plot to 1 and run to start plotting. Change the modes (1 iteration/ multi) or (normal/seeded distribution)."
   ]
  },
  {
   "cell_type": "code",
   "execution_count": 16,
   "metadata": {
    "collapsed": true
   },
   "outputs": [],
   "source": [
    "to_plot = 0 #Set 1 to start plotting\n",
    "max_step = 100 #Set one for only one iteration\n",
    "distribution = 0 #0 for normal, 1 for seeded"
   ]
  },
  {
   "cell_type": "code",
   "execution_count": 17,
   "metadata": {
    "collapsed": false
   },
   "outputs": [],
   "source": [
    "#Grid size plot\n",
    "if to_plot == 1:\n",
    "\n",
    "    xx = range(10,101,10)\n",
    "    yy = np.array(xx,dtype=float)\n",
    "    for i in range(0,len(xx)):\n",
    "        yy[i] = main(xx[i],xx[i],max_step,PROB_OCCUPIED,COND_PROB_A,UNHAPPY_COLOR_THRESHOLD,distribution)\n",
    "    \n",
    "    #print(yy)\n",
    "    plt.xlabel('Grid size')\n",
    "    plt.ylabel('Index')\n",
    "    plt.plot(xx,yy)\n",
    "    print(\"Baseline Model Grid size vs Index Plot\\nConditions:\\nStep Size: 0.1\\nIterations: 1\\nPr(Occ)=0.5\\nPr(A):0.66\")\n"
   ]
  },
  {
   "cell_type": "code",
   "execution_count": 18,
   "metadata": {
    "collapsed": false
   },
   "outputs": [],
   "source": [
    "#Pr(Occ) plot\n",
    "if to_plot == 1:\n",
    "    xx0 = np.arange(0.0,1.001,0.1)\n",
    "\n",
    "    yy0 = np.array(xx0,dtype=float)\n",
    "    for i in range(0,len(xx0)):\n",
    "        yy0[i] = main(100,100,1,xx0[i],0.25,UNHAPPY_COLOR_THRESHOLD,distribution)\n",
    "    \n",
    "    yy1 = np.array(xx0,dtype=float)\n",
    "    for i in range(0,len(xx0)):\n",
    "        yy1[i] = main(100,100,1,xx0[i],0.5,UNHAPPY_COLOR_THRESHOLD,distribution)\n",
    "\n",
    "    yy2 = np.array(xx0,dtype=float)\n",
    "    for i in range(0,len(xx0)):\n",
    "        yy2[i] = main(100,100,1,xx0[i],0.75,UNHAPPY_COLOR_THRESHOLD,distribution)\n",
    "    \n",
    "    yyb =np.array(xx0,dtype=float)\n",
    "    for i in range(0,len(xx0)):\n",
    "        yyb[i] = main(100,100,1,xx0[i],COND_PROB_A,UNHAPPY_COLOR_THRESHOLD,distribution)\n",
    "\n",
    "    yyallB =np.array(xx0,dtype=float)\n",
    "    for i in range(0,len(xx0)):\n",
    "        yyallB[i] = main(100,100,1,xx0[i],0,UNHAPPY_COLOR_THRESHOLD,distribution)\n",
    "    \n",
    "    yyallA =np.array(xx0,dtype=float)\n",
    "    for i in range(0,len(xx0)):\n",
    "        yyallA[i] = main(100,100,1,xx0[i],1,UNHAPPY_COLOR_THRESHOLD,distribution)\n",
    "    \n",
    "    plt.xlabel('Probability of occupation')\n",
    "    plt.ylabel('Index')\n",
    "    plt.plot(xx0,yy0,'c',xx0,yy1,'m',xx0,yy2,'g',xx0,yyb,'y',xx0,yyallA,'r',xx0,yyallB,'b')\n",
    "    print(\"Baseline Model Pr(Occupation) vs Index Plot\\nConditions: \\nGrid size: 100x100\\nStep Size: 0.1\\nIterations: 1\")\n",
    "    print(\"Pr(A):\\n\\tRed:All A,\\n\\tBlue:All B,\\n\\tCyan:0.25,\\n\\tMagenta:0.5,\\n\\tYellow:0.66(Default),\\n\\tGreen:0.75\")\n",
    "\n"
   ]
  },
  {
   "cell_type": "code",
   "execution_count": 19,
   "metadata": {
    "collapsed": false
   },
   "outputs": [],
   "source": [
    "#Pr(A) plot\n",
    "if to_plot == 1:\n",
    "    xx0 = np.arange(0.0,1.001,0.1)\n",
    "\n",
    "    yy0 = np.array(xx0,dtype=float)\n",
    "    for i in range(0,len(xx0)):\n",
    "        yy0[i] = main(100,100,1,0.25,xx0[i],UNHAPPY_COLOR_THRESHOLD,distribution)\n",
    "\n",
    "    yy1 = np.array(xx0,dtype=float)\n",
    "    for i in range(0,len(xx0)):\n",
    "        yy1[i] = main(100,100,1,PROB_OCCUPIED,xx0[i],UNHAPPY_COLOR_THRESHOLD,distribution)\n",
    "\n",
    "    yy2 = np.array(xx0,dtype=float)\n",
    "    for i in range(0,len(xx0)):\n",
    "        yy2[i] = main(100,100,1,0.75,xx0[i],UNHAPPY_COLOR_THRESHOLD,distribution)\n",
    "\n",
    "    plt.xlabel('Pr(A)')\n",
    "    plt.ylabel('Index')\n",
    "    plt.plot(xx0,yy0,'r',xx0,yy1,'b',xx0,yy2,'g')\n",
    "    print(\"Baseline Model Pr(A) vs Index Plot\\nConditions: \\nGrid size: 100x100\\nStep Size: 0.1\\nIterations: 1\")\n",
    "    print(\"Pr(Occupied):\\n\\tRed:0.25,\\n\\tBlue:0.5,\\n\\tGreen:0.75\")"
   ]
  }
 ],
 "metadata": {
  "kernelspec": {
   "display_name": "IPython (Python 3)",
   "language": "python",
   "name": "python3"
  },
  "language_info": {
   "codemirror_mode": {
    "name": "ipython",
    "version": 3
   },
   "file_extension": ".py",
   "mimetype": "text/x-python",
   "name": "python",
   "nbconvert_exporter": "python",
   "pygments_lexer": "ipython3",
   "version": "3.5.1"
  }
 },
 "nbformat": 4,
 "nbformat_minor": 0
}
